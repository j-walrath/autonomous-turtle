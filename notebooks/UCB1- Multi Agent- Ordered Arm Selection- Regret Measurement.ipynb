{
 "cells": [
  {
   "cell_type": "code",
   "execution_count": 4,
   "metadata": {},
   "outputs": [],
   "source": [
    "import numpy as np\n",
    "import random\n",
    "import math\n",
    "import matplotlib\n",
    "import matplotlib.pyplot as plt\n",
    "import heapq"
   ]
  },
  {
   "cell_type": "code",
   "execution_count": 15,
   "metadata": {},
   "outputs": [],
   "source": [
    "# Initial conditions\n",
    "n = 100 # number of trash\n",
    "m = 5 # size of grid\n",
    "k = 6 # number of agents\n",
    "mu = [3, 2] # center of trash pile\n",
    "sig = [[0.1, 0], [0, 0.1]] # spread of pile\n",
    "var = 0.1 # error in measurements\n",
    "\n",
    "field = np.zeros((m,m))# array of trash pieces dispersed on field\n",
    "visits = np.zeros((k,m,m))# array to track number of visits to each gridpoint\n",
    "reward = np.zeros((k,m,m))# array of sum of rewards from each gridpoint\n",
    "expected_mean = np.zeros((k,m,m)) # array of expected mean of each gridpoint\n",
    "\n",
    "T = n # number of time steps\n",
    "delta = 1 # amount reward decreases per visit\n",
    "xi = 2 # constant xi > 1\n",
    "gamma = 3 # max message length\n",
    "\n",
    "messageSent = {}# dict {agent: list of messages to send - tuple [agent, time, arm, reward]}\n",
    "messageRec = {}# dict {agent: list of messages received - tuple [agent, time, arm, reward]}"
   ]
  },
  {
   "cell_type": "code",
   "execution_count": 16,
   "metadata": {
    "scrolled": false
   },
   "outputs": [
    {
     "name": "stdout",
     "output_type": "stream",
     "text": [
      "[[ 0.  0.  0.  0.  0.]\n",
      " [ 0.  0.  0.  0.  0.]\n",
      " [ 0. 21. 26.  0.  0.]\n",
      " [ 0. 31. 22.  0.  0.]\n",
      " [ 0.  0.  0.  0.  0.]]\n",
      "Degree: 0\n",
      "Total time: 56\n",
      "[[  0.   0.   0.   0.   0.   0.   0.   4.   4.   4.   4.   8.  17.  17.\n",
      "   35.  35.  41.  41.  41.  41.  48.  48.  62.  62.  62.  69.  69.  69.\n",
      "   77.  77.  88.  88.  98. 108. 108. 108. 116. 116. 123. 123. 129. 135.\n",
      "  135. 135. 139. 143. 143. 146. 149. 149. 151. 153. 153. 154. 155. 155.]\n",
      " [  0.   0.   0.   0.   0.   0.   2.  10.  10.  10.  13.  13.  13.  17.\n",
      "   17.  31.  31.  36.  36.  36.  42.  42.  42.  49.  56.  56.  56.  60.\n",
      "   60.  62.  62.  63.  63.  63.  63.  63.  63.  63.  63.  63.  63.  63.\n",
      "   63.  63.  63.  63.  63.  63.  63.  63.  63.  63.  63.  63.  63.  63.]\n",
      " [  0.   0.   1.   1.   1.   4.   4.   4.   9.   9.   9.  15.  15.  15.\n",
      "   21.  21.  21.  28.  28.  28.  32.  32.  32.  32.  32.  32.  32.  32.\n",
      "   32.  32.  32.  32.  32.  32.  32.  32.  32.  32.  32.  32.  32.  32.\n",
      "   32.  32.  32.  32.  32.  32.  32.  32.  32.  32.  32.  32.  32.  32.]\n",
      " [  0.   0.   0.   0.   0.   0.   0.   0.   0.   0.   0.   0.   0.   0.\n",
      "    0.   0.   0.   0.   0.   0.   0.   0.   0.   0.   0.   0.   0.   0.\n",
      "    0.   0.   0.   0.   0.   0.   0.   0.   0.   0.   0.   0.   0.   0.\n",
      "    0.   0.   0.   0.   0.   0.   0.   0.   0.   0.   0.   0.   0.   0.]\n",
      " [  0.   0.   0.   0.   0.   0.   0.   0.   0.   0.   0.   0.   0.   0.\n",
      "    0.   0.   0.   0.   0.   0.   0.   0.   0.   0.   0.   0.   0.   0.\n",
      "    0.   0.   0.   0.   0.   0.   0.   0.   0.   0.   0.   0.   0.   0.\n",
      "    0.   0.   0.   0.   0.   0.   0.   0.   0.   0.   0.   0.   0.   0.]\n",
      " [  0.   0.   0.   0.   0.   0.   0.   0.   0.   0.   0.   0.   0.   0.\n",
      "    0.   0.   0.   0.   0.   0.   0.   0.   0.   0.   0.   0.   0.   0.\n",
      "    0.   0.   0.   0.   0.   0.   0.   0.   0.   0.   0.   0.   0.   0.\n",
      "    0.   0.   0.   0.   0.   0.   0.   0.   0.   0.   0.   0.   0.   0.]]\n"
     ]
    },
    {
     "data": {
      "image/png": "[encoded data removed]",
      "text/plain": [
       "<Figure size 432x288 with 1 Axes>"
      ]
     },
     "metadata": {
      "needs_background": "light"
     },
     "output_type": "display_data"
    },
    {
     "name": "stdout",
     "output_type": "stream",
     "text": [
      "Degree: 1\n",
      "Total time: 52\n",
      "[[  0.   0.   0.   0.   0.   0.   4.   4.   4.   4.   9.   9.  19.  19.\n",
      "   19.  25.  25.  25.  25.  31.  31.  45.  45.  53.  53.  53.  61.  61.\n",
      "   61.  61.  69.  79.  79.  79.  87.  87.  87.  93.  99.  99. 104. 104.\n",
      "  108. 108. 111. 111. 113. 115. 115. 116. 117. 117.]\n",
      " [  0.   0.   0.   0.   0.   3.   3.  10.  10.  10.  13.  13.  13.  17.\n",
      "   17.  29.  29.  34.  34.  34.  39.  39.  39.  46.  52.  52.  52.  55.\n",
      "   55.  57.  57.  57.  57.  57.  57.  57.  57.  57.  57.  57.  57.  57.\n",
      "   57.  57.  57.  57.  57.  57.  57.  57.  57.  57.]\n",
      " [  0.   0.   0.   1.   1.   4.   4.   4.   9.   9.   9.   9.  15.  15.\n",
      "   15.  21.  21.  21.  26.  26.  26.  28.  28.  28.  28.  28.  28.  28.\n",
      "   28.  28.  28.  28.  28.  28.  28.  28.  28.  28.  28.  28.  28.  28.\n",
      "   28.  28.  28.  28.  28.  28.  28.  28.  28.  28.]\n",
      " [  0.   0.   0.   0.   0.   0.   0.   0.   0.   0.   0.   0.   0.   0.\n",
      "    0.   0.   0.   0.   0.   0.   0.   0.   0.   0.   0.   0.   0.   0.\n",
      "    0.   0.   0.   0.   0.   0.   0.   0.   0.   0.   0.   0.   0.   0.\n",
      "    0.   0.   0.   0.   0.   0.   0.   0.   0.   0.]\n",
      " [  0.   0.   0.   0.   0.   0.   0.   0.   0.   0.   0.   0.   0.   0.\n",
      "    0.   0.   0.   0.   0.   0.   0.   0.   0.   0.   0.   0.   0.   0.\n",
      "    0.   0.   0.   0.   0.   0.   0.   0.   0.   0.   0.   0.   0.   0.\n",
      "    0.   0.   0.   0.   0.   0.   0.   0.   0.   0.]\n",
      " [  0.   0.   0.   0.   0.   0.   0.   0.   0.   0.   0.   0.   0.   0.\n",
      "    0.   0.   0.   0.   0.   0.   0.   0.   0.   0.   0.   0.   0.   0.\n",
      "    0.   0.   0.   0.   0.   0.   0.   0.   0.   0.   0.   0.   0.   0.\n",
      "    0.   0.   0.   0.   0.   0.   0.   0.   0.   0.]]\n"
     ]
    },
    {
     "data": {
      "image/png": "[encoded data removed]",
      "text/plain": [
       "<Figure size 432x288 with 1 Axes>"
      ]
     },
     "metadata": {
      "needs_background": "light"
     },
     "output_type": "display_data"
    },
    {
     "name": "stdout",
     "output_type": "stream",
     "text": [
      "Degree: 2\n",
      "Total time: 39\n",
      "[[ 0.  0.  0.  0.  0.  0.  0.  0.  0.  0.  9.  9.  9.  9.  9.  9.  9. 20.\n",
      "  20. 20. 20. 20. 20. 31. 31. 31. 31. 31. 38. 38. 38. 43. 43. 43. 46. 46.\n",
      "  46. 47. 47.]\n",
      " [ 0.  0.  0.  0.  0.  0.  5.  5.  5.  5.  5. 12. 12. 12. 12. 21. 21. 21.\n",
      "  21. 21. 31. 31. 31. 31. 38. 38. 38. 43. 43. 43. 46. 46. 48. 48. 48. 48.\n",
      "  48. 48. 48.]\n",
      " [ 0.  0.  0.  0.  0.  0.  0.  0.  0.  0.  0.  0.  0.  0.  0.  0.  0.  0.\n",
      "   0.  0.  0.  0.  0.  0.  0.  0.  0.  0.  0.  0.  0.  0.  0.  0.  0.  0.\n",
      "   0.  0.  0.]\n",
      " [ 0.  0.  0.  0.  0.  0.  0.  0.  0.  0.  0.  0.  0.  0.  0.  0.  0.  0.\n",
      "   0.  0.  0.  0.  0.  0.  0.  0.  0.  0.  0.  0.  0.  0.  0.  0.  0.  0.\n",
      "   0.  0.  0.]\n",
      " [ 0.  0.  0.  0.  0.  0.  0.  0.  0.  0.  0.  0.  0.  0.  0.  0.  0.  0.\n",
      "   0.  0.  0.  0.  0.  0.  0.  0.  0.  0.  0.  0.  0.  0.  0.  0.  0.  0.\n",
      "   0.  0.  0.]\n",
      " [ 0.  0.  0.  0.  0.  0.  0.  0.  0.  0.  0.  0.  0.  0.  0.  0.  0.  0.\n",
      "   0.  0.  0.  0.  0.  0.  0.  0.  0.  0.  0.  0.  0.  0.  0.  0.  0.  0.\n",
      "   0.  0.  0.]]\n"
     ]
    },
    {
     "data": {
      "image/png": "[encoded data removed]",
      "text/plain": [
       "<Figure size 432x288 with 1 Axes>"
      ]
     },
     "metadata": {
      "needs_background": "light"
     },
     "output_type": "display_data"
    },
    {
     "name": "stdout",
     "output_type": "stream",
     "text": [
      "Degree: 3\n",
      "Total time: 45\n",
      "[[ 0.  0.  0.  0.  0.  0.  4.  4.  4.  4.  9.  9.  9.  9. 15. 15. 15. 15.\n",
      "  21. 21. 21. 28. 28. 28. 36. 36. 36. 45. 45. 45. 45. 53. 53. 53. 59. 59.\n",
      "  64. 64. 64. 67. 67. 69. 69. 70. 70.]\n",
      " [ 0.  0.  0.  0.  0.  3.  3.  3.  3.  5.  5.  5.  7.  7.  7.  9.  9. 13.\n",
      "  13. 13. 17. 17. 17. 21. 21. 21. 23. 23. 23. 23. 23. 23. 23. 23. 23. 23.\n",
      "  23. 23. 23. 23. 23. 23. 23. 23. 23.]\n",
      " [ 0.  0.  1.  1.  1.  4.  4.  4.  8.  8.  8. 13. 13. 13. 19. 19. 19. 26.\n",
      "  26. 26. 30. 30. 30. 31. 31. 31. 31. 31. 31. 31. 31. 31. 31. 31. 31. 31.\n",
      "  31. 31. 31. 31. 31. 31. 31. 31. 31.]\n",
      " [ 0.  0.  0.  0.  0.  0.  0.  0.  0.  0.  0.  0.  0.  0.  0.  0.  0.  0.\n",
      "   0.  0.  0.  0.  0.  0.  0.  0.  0.  0.  0.  0.  0.  0.  0.  0.  0.  0.\n",
      "   0.  0.  0.  0.  0.  0.  0.  0.  0.]\n",
      " [ 0.  0.  0.  0.  0.  0.  0.  0.  0.  0.  0.  0.  0.  0.  0.  0.  0.  0.\n",
      "   0.  0.  0.  0.  0.  0.  0.  0.  0.  0.  0.  0.  0.  0.  0.  0.  0.  0.\n",
      "   0.  0.  0.  0.  0.  0.  0.  0.  0.]\n",
      " [ 0.  0.  0.  0.  0.  0.  0.  0.  0.  0.  0.  0.  0.  0.  0.  0.  0.  0.\n",
      "   0.  0.  0.  0.  0.  0.  0.  0.  0.  0.  0.  0.  0.  0.  0.  0.  0.  0.\n",
      "   0.  0.  0.  0.  0.  0.  0.  0.  0.]]\n"
     ]
    },
    {
     "data": {
      "image/png": "[encoded data removed]",
      "text/plain": [
       "<Figure size 432x288 with 1 Axes>"
      ]
     },
     "metadata": {
      "needs_background": "light"
     },
     "output_type": "display_data"
    },
    {
     "name": "stdout",
     "output_type": "stream",
     "text": [
      "Degree: 4\n",
      "Total time: 38\n",
      "[[ 0.  0.  0.  0.  0.  0.  0.  0.  0.  0.  0. 10. 10. 10. 10. 10. 10. 10.\n",
      "  22. 22. 22. 22. 22. 22. 22. 22. 22. 22. 28. 28. 28. 32. 32. 32. 34. 34.\n",
      "  35. 35.]\n",
      " [ 0.  0.  0.  0.  0.  0.  0.  0.  0.  0.  0.  0.  0.  0.  0.  0.  0.  0.\n",
      "   0.  0.  0.  0.  0.  0.  0.  0.  0.  0.  0.  0.  0.  0.  0.  0.  0.  0.\n",
      "   0.  0.]\n",
      " [ 0.  0.  0.  0.  0.  0.  0.  0.  0.  0.  0.  0.  0.  0.  0.  0.  0.  0.\n",
      "   0.  0.  0.  0.  0.  0.  0.  0.  0.  0.  0.  0.  0.  0.  0.  0.  0.  0.\n",
      "   0.  0.]\n",
      " [ 0.  0.  0.  0.  0.  0.  0.  0.  0.  0.  0.  0.  0.  0.  0.  0.  0.  0.\n",
      "   0.  0.  0.  0.  0.  0.  0.  0.  0.  0.  0.  0.  0.  0.  0.  0.  0.  0.\n",
      "   0.  0.]\n",
      " [ 0.  0.  0.  0.  0.  0.  0.  0.  0.  0.  0.  0.  0.  0.  0.  0.  0.  0.\n",
      "   0.  0.  0.  0.  0.  0.  0.  0.  0.  0.  0.  0.  0.  0.  0.  0.  0.  0.\n",
      "   0.  0.]\n",
      " [ 0.  0.  0.  0.  0.  0.  0.  0.  0.  0.  0.  0.  0.  0.  0.  0.  0.  0.\n",
      "   0.  0.  0.  0.  0.  0.  0.  0.  0.  0.  0.  0.  0.  0.  0.  0.  0.  0.\n",
      "   0.  0.]]\n"
     ]
    },
    {
     "data": {
      "image/png": "[encoded data removed]",
      "text/plain": [
       "<Figure size 432x288 with 1 Axes>"
      ]
     },
     "metadata": {
      "needs_background": "light"
     },
     "output_type": "display_data"
    },
    {
     "name": "stdout",
     "output_type": "stream",
     "text": [
      "Degree: 5\n",
      "Total time: 32\n",
      "[[0. 0. 0. 0. 0. 0. 0. 0. 0. 0. 0. 0. 0. 0. 0. 0. 0. 0. 0. 0. 0. 0. 0. 0.\n",
      "  0. 0. 0. 0. 0. 0. 0. 0.]\n",
      " [0. 0. 0. 0. 0. 0. 0. 0. 0. 0. 0. 0. 0. 0. 0. 0. 0. 0. 0. 0. 0. 0. 0. 0.\n",
      "  0. 0. 0. 0. 0. 0. 0. 0.]\n",
      " [0. 0. 0. 0. 0. 0. 0. 0. 0. 0. 0. 0. 0. 0. 0. 0. 0. 0. 0. 0. 0. 0. 0. 0.\n",
      "  0. 0. 0. 0. 0. 0. 0. 0.]\n",
      " [0. 0. 0. 0. 0. 0. 0. 0. 0. 0. 0. 0. 0. 0. 0. 0. 0. 0. 0. 0. 0. 0. 0. 0.\n",
      "  0. 0. 0. 0. 0. 0. 0. 0.]\n",
      " [0. 0. 0. 0. 0. 0. 0. 0. 0. 0. 0. 0. 0. 0. 0. 0. 0. 0. 0. 0. 0. 0. 0. 0.\n",
      "  0. 0. 0. 0. 0. 0. 0. 0.]\n",
      " [0. 0. 0. 0. 0. 0. 0. 0. 0. 0. 0. 0. 0. 0. 0. 0. 0. 0. 0. 0. 0. 0. 0. 0.\n",
      "  0. 0. 0. 0. 0. 0. 0. 0.]]\n"
     ]
    },
    {
     "data": {
      "image/png": "[encoded data removed]",
      "text/plain": [
       "<Figure size 432x288 with 1 Axes>"
      ]
     },
     "metadata": {
      "needs_background": "light"
     },
     "output_type": "display_data"
    }
   ],
   "source": [
    "# Initialize field\n",
    "trash = np.random.multivariate_normal(mu, sig, n)\n",
    "for i in range(n):\n",
    "    x = int(trash[i][0])\n",
    "    y = int(trash[i][1])\n",
    "    field[x][y] += 1\n",
    "print(field)\n",
    "    \n",
    "for degree in range(k):\n",
    "    print(\"Degree: {}\".format(degree))\n",
    "    # Reset matrices used for calculation \n",
    "    field_temp = field.copy()\n",
    "    visits = np.zeros((k,m,m))# array to track number of visits to each gridpoint\n",
    "    reward = np.zeros((k,m,m))# array of sum of rewards from each gridpoint\n",
    "    expected_mean = np.zeros((k,m,m)) # array of expected mean of each gridpoint\n",
    "    regret = []\n",
    "\n",
    "    # Reset Messages\n",
    "    for i in range(k):\n",
    "        messageSent[i] = []\n",
    "        messageRec[i] = []\n",
    "        regret.append([0])\n",
    "\n",
    "    # Initialize communication network\n",
    "    graph = np.identity(k)\n",
    "    if degree % 2 == 0:\n",
    "        num = int(degree/2)\n",
    "        for j in range(num):\n",
    "            # make vertex for every (i +1) steps away\n",
    "            for i in range(k):\n",
    "                neighbor = int(i + j + 1)\n",
    "                if neighbor > (k-1):\n",
    "                    neighbor = neighbor - k\n",
    "                graph[i][neighbor] = 1\n",
    "                graph[neighbor][i] = 1\n",
    "    else:\n",
    "        num = int((degree-1)/2 + 1)\n",
    "        for j in range(num):\n",
    "            # make vertex for every n/2 - i steps away\n",
    "            for i in range(k):\n",
    "                neighbor = int(i + k/2 - j)\n",
    "                if neighbor > (k-1):\n",
    "                    neighbor = neighbor - k\n",
    "                graph[i][neighbor] = 1\n",
    "                graph[neighbor][i] = 1\n",
    "\n",
    "    # Initialize agents\n",
    "    t = 0\n",
    "    for i in range(k):\n",
    "        for x in range(m):\n",
    "            for y in range(m):\n",
    "                measure = round(np.random.normal(field_temp[x][y], var),1)\n",
    "                reward[i][x][y] += measure\n",
    "                visits[i][x][y] += 1\n",
    "\n",
    "        # Calculate expected mean\n",
    "        expected_mean[i] = np.divide(reward[i], visits[i])\n",
    "\n",
    "    t += 1\n",
    "    while np.max(field_temp) > 0:\n",
    "        #print(\"t: {}\".format(t))\n",
    "        index = []\n",
    "        for i in range(k):\n",
    "            # Select arm with highest expected Q value\n",
    "            Q = expected_mean[i] + var*np.divide(math.sqrt(2*(xi + 1)*math.log(t)),np.sqrt(visits[i]))\n",
    "            Q_new = Q.reshape(m**2).tolist()\n",
    "            b = heapq.nlargest(k, range(len(Q_new)), key=Q_new.__getitem__)\n",
    "            ind = np.unravel_index(b[i], Q.shape)\n",
    "            measure = np.round(np.random.normal(field_temp[ind], var),1)\n",
    "            index.append(ind)\n",
    "\n",
    "            #print(ind)\n",
    "            #print(Q)\n",
    "            #print(measure)\n",
    "\n",
    "            # Calculate regret\n",
    "            field_new = field_temp.reshape(m**2).tolist()\n",
    "            c = heapq.nlargest(k, range(len(field_new)), key = field_new.__getitem__)\n",
    "            optimal_ind = np.unravel_index(c[i], field_temp.shape)\n",
    "            # optimal_ind = np.unravel_index(np.argmax(field), field.shape)\n",
    "            max_reward = field_temp[optimal_ind]\n",
    "            actual_reward = field_temp[ind]\n",
    "            #if actual_reward < 0:\n",
    "             #   actual_reward = 0\n",
    "            regret[i].append(max_reward - actual_reward)                \n",
    "\n",
    "\n",
    "            # Make message to send to neighboring agents\n",
    "            message = (t, i, ind, measure)\n",
    "            send = messageSent[i]\n",
    "            if len(send) == gamma:\n",
    "                send.pop(0)\n",
    "            send.append(message)\n",
    "            messageSent[i] = send\n",
    "\n",
    "        # Pick up trash from selected grid points\n",
    "        for i in range(len(index)):\n",
    "            ind = index[i]\n",
    "            if field_temp[ind] > 0:\n",
    "                field_temp[ind] -= 1\n",
    "\n",
    "\n",
    "        # receive messages from neighbors and adjust expected mean\n",
    "        for i in range(k):\n",
    "            #print(i)\n",
    "            new_visits= np.zeros((m,m))\n",
    "            # compare new messages with history of messages and skip any repeats\n",
    "            for j in range(k):\n",
    "                if graph[i][j] == 1:\n",
    "                    received = messageRec[i]\n",
    "                    sent = messageSent[j]\n",
    "                    for l in range(len(sent)):\n",
    "                        msg = sent[l]\n",
    "                        if received.count(msg) == 0:\n",
    "                            received.append(msg)\n",
    "                            ind = msg[2]\n",
    "                            visits[i][ind] += 1\n",
    "                            new_visits[ind] += 1\n",
    "                            reward[i][ind] += msg[3]\n",
    "                    messageRec[i] = received\n",
    "\n",
    "            # calculate expected mean\n",
    "            reward[i] -= np.multiply(new_visits, visits[i])\n",
    "            expected_mean[i] = np.divide(reward[i], visits[i])\n",
    "            #print(reward[i])\n",
    "            #print(visits[i])\n",
    "            #print(expected_mean[i])           \n",
    "        # Next time step\n",
    "        #print(field_temp)\n",
    "        t += 1\n",
    "    # Graph regret over time\n",
    "    print(\"Total time: {}\".format(t))\n",
    "    time = np.arange(t)\n",
    "    cum_regret = np.cumsum(regret, axis = 1)\n",
    "    print(np.array(cum_regret))\n",
    "    for i in range(k):\n",
    "        plt.plot(cum_regret[i])\n",
    "    plt.show()"
   ]
  },
  {
   "cell_type": "code",
   "execution_count": 327,
   "metadata": {
    "scrolled": false
   },
   "outputs": [
    {
     "name": "stdout",
     "output_type": "stream",
     "text": [
      "[[ 0.  0.  0.  0.  0.]\n",
      " [ 0.  0.  0.  0.  0.]\n",
      " [ 0. 27. 33.  0.  0.]\n",
      " [ 0. 21. 19.  0.  0.]\n",
      " [ 0.  0.  0.  0.  0.]]\n",
      "20\n",
      "(6, 20)\n",
      "[[0. 0. 0. 0. 0. 0. 0. 0. 0. 0. 0. 0. 0. 0. 0. 0. 0. 0. 0. 0.]\n",
      " [0. 0. 0. 0. 0. 0. 0. 0. 0. 0. 0. 0. 0. 0. 0. 0. 0. 0. 0. 0.]\n",
      " [0. 0. 0. 0. 0. 0. 0. 0. 0. 0. 0. 0. 0. 0. 0. 0. 0. 0. 0. 0.]\n",
      " [0. 0. 0. 0. 0. 0. 0. 0. 0. 0. 0. 0. 0. 0. 0. 0. 0. 0. 0. 0.]\n",
      " [0. 0. 0. 0. 0. 0. 0. 0. 0. 0. 0. 0. 0. 0. 0. 0. 0. 0. 0. 0.]\n",
      " [0. 0. 0. 0. 0. 0. 0. 0. 0. 0. 0. 0. 0. 0. 0. 0. 0. 0. 0. 0.]]\n"
     ]
    }
   ],
   "source": [
    "print(field)\n",
    "print(t)\n",
    "print(np.shape(regret))\n",
    "print(np.array(regret))"
   ]
  },
  {
   "cell_type": "code",
   "execution_count": 312,
   "metadata": {},
   "outputs": [
    {
     "name": "stdout",
     "output_type": "stream",
     "text": [
      "[[0. 0. 0. 0. 0. 0. 0. 0. 0. 0. 0. 0. 0. 0. 0. 0. 0. 0. 0. 0. 0. 0. 0. 0.\n",
      "  0. 0. 0. 0. 0. 0. 0. 0. 0. 0. 0. 0.]\n",
      " [0. 0. 0. 0. 0. 0. 0. 0. 0. 0. 0. 0. 0. 0. 0. 0. 0. 0. 0. 0. 0. 0. 0. 0.\n",
      "  0. 0. 0. 0. 0. 0. 0. 0. 0. 0. 0. 0.]\n",
      " [0. 0. 0. 0. 0. 0. 0. 0. 0. 0. 0. 0. 0. 0. 0. 0. 0. 0. 0. 0. 0. 0. 0. 0.\n",
      "  0. 0. 0. 0. 0. 0. 0. 0. 0. 0. 0. 0.]\n",
      " [0. 0. 0. 0. 0. 0. 0. 0. 0. 0. 0. 0. 0. 0. 0. 0. 0. 0. 0. 0. 0. 0. 0. 0.\n",
      "  0. 0. 0. 0. 0. 0. 0. 0. 0. 0. 0. 0.]\n",
      " [0. 0. 0. 0. 0. 0. 0. 0. 0. 0. 0. 0. 0. 0. 0. 0. 0. 0. 0. 0. 0. 0. 0. 0.\n",
      "  0. 0. 0. 0. 0. 0. 0. 0. 0. 0. 0. 0.]\n",
      " [0. 0. 0. 0. 0. 0. 0. 0. 0. 0. 0. 0. 0. 0. 0. 0. 0. 0. 0. 0. 0. 0. 0. 0.\n",
      "  0. 0. 0. 0. 0. 0. 0. 0. 0. 0. 0. 0.]]\n"
     ]
    },
    {
     "data": {
      "image/png": "[encoded data removed]",
      "text/plain": [
       "<Figure size 432x288 with 1 Axes>"
      ]
     },
     "metadata": {
      "needs_background": "light"
     },
     "output_type": "display_data"
    }
   ],
   "source": [
    "# Graph regret over time\n",
    "time = np.arange(t)\n",
    "cum_regret = np.cumsum(regret, axis = 1)\n",
    "print(np.array(cum_regret))\n",
    "for i in range(k):\n",
    "    plt.plot(cum_regret[i])\n",
    "plt.show()"
   ]
  },
  {
   "cell_type": "code",
   "execution_count": null,
   "metadata": {},
   "outputs": [],
   "source": []
  }
 ],
 "metadata": {
  "kernelspec": {
   "display_name": "Python 3",
   "language": "python",
   "name": "python3"
  },
  "language_info": {
   "codemirror_mode": {
    "name": "ipython",
    "version": 3
   },
   "file_extension": ".py",
   "mimetype": "text/x-python",
   "name": "python",
   "nbconvert_exporter": "python",
   "pygments_lexer": "ipython3",
   "version": "3.8.3"
  }
 },
 "nbformat": 4,
 "nbformat_minor": 4
}
